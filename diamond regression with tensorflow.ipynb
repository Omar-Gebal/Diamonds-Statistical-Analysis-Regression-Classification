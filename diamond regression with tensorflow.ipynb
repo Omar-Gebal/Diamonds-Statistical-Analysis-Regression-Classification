{
 "cells": [
  {
   "cell_type": "markdown",
   "metadata": {},
   "source": [
    "# Introduction\n",
    "\n",
    "There have been lot of studies undertaken in the past on factors affecting life expectancy considering demographic variables, income composition and mortality rates. This study will focus on immunization factors, mortality factors, economic factors, social factors and other health related factors as well that relate to life expectancy. Since the observations this dataset are based on different countries, it will be easier for a country to determine the predicting factor which is contributing to lower value of life expectancy. This will help in suggesting a country which area should be given importance in order to efficiently improve the life expectancy of its population."
   ]
  },
  {
   "cell_type": "code",
   "execution_count": 356,
   "metadata": {},
   "outputs": [
    {
     "data": {
      "text/plain": [
       "['carat', 'cut', 'color', 'clarity', 'depth', 'table', 'price', 'x', 'y', 'z']"
      ]
     },
     "execution_count": 356,
     "metadata": {},
     "output_type": "execute_result"
    }
   ],
   "source": [
    "[column for column in data.columns]"
   ]
  },
  {
   "cell_type": "code",
   "execution_count": 331,
   "metadata": {},
   "outputs": [
    {
     "data": {
      "text/plain": [
       "carat      float64\n",
       "cut          int64\n",
       "color       object\n",
       "clarity      int64\n",
       "depth      float64\n",
       "table      float64\n",
       "price        int64\n",
       "x          float64\n",
       "y          float64\n",
       "z          float64\n",
       "dtype: object"
      ]
     },
     "execution_count": 331,
     "metadata": {},
     "output_type": "execute_result"
    }
   ],
   "source": [
    "data.dtypes"
   ]
  },
  {
   "cell_type": "code",
   "execution_count": 54,
   "metadata": {},
   "outputs": [
    {
     "data": {
      "text/plain": [
       "array([  62,   64,   66,   69,   71,   74,   77,   80,   82,   84,   85,\n",
       "         87,   88,    0,    1,   21,   20,   19,   67,   72,   75,   78,\n",
       "         81,   90,   92,   94,   95,   96,   97,    8,    9,   10,   11,\n",
       "         12,    5,    6,    7,   98,  104,  111,  118,  126,  135,  144,\n",
       "        154,  164,  174,  185,  196,  207,  219,  231,   25,   13,   14,\n",
       "         15,    2,   42,   44,   46,   49,   51,   54,   57,   61,   65,\n",
       "         70,  103,   38,   39,   40,   41,   43,   45,   47,   48,   22,\n",
       "         23,   24,   58,   59,   60,   63,   16,   17,   18,   27,   50,\n",
       "         53,   56,  157,  171,  201,  215,  248,  266,  285,  307,  332,\n",
       "        360,  391,  422,  457,  490,  236,  237,  238,  239,  235,  233,\n",
       "        232,  229,  227,  226,   55,    3,    4,  136,  140,  145,  150,\n",
       "        156,  162,  169,  177,  186,  206,  217,  228,  246,  253,   37,\n",
       "         26,   28,   29,   30,   31,   32,   33,   34,   35,   36,  910,\n",
       "        957, 1000, 1100, 1200, 1300, 1400, 1500, 1600, 1700, 1800,  114,\n",
       "        119,  124,  129,  134,  138,  143,  149,  159,  163,  173,  182,\n",
       "        187,   68,   76,   52,   93,   73,  483,  498,  505,  513,  521,\n",
       "        527,  536,  542,  549,  556,  563,  567,  571,  574,  576,  352,\n",
       "        359,  365,  369,  371,  372,  367,  364,  366,  377,  385,   79,\n",
       "         99,  109,  112,  115,  116,   86,   89,   91,  100,  106,  110])"
      ]
     },
     "execution_count": 54,
     "metadata": {},
     "output_type": "execute_result"
    }
   ],
   "source": [
    "data['infant_deaths'].unique()\n"
   ]
  },
  {
   "cell_type": "markdown",
   "metadata": {},
   "source": [
    "#### Deep Learning"
   ]
  },
  {
   "cell_type": "code",
   "execution_count": 497,
   "metadata": {},
   "outputs": [],
   "source": [
    "import tensorflow as tf\n",
    "# from tensorflow import keras\n",
    "from tensorflow.keras.layers import Input, Dense, SimpleRNN, BatchNormalization, Normalization\n",
    "from tensorflow.keras.models import Model\n",
    "from tensorflow.keras.optimizers import Adam, SGD\n",
    "\n",
    "from sklearn import datasets, linear_model\n",
    "from sklearn.model_selection import train_test_split\n"
   ]
  },
  {
   "cell_type": "markdown",
   "metadata": {},
   "source": [
    "The \"Origin\" column is categorical, not numeric. So the next step is to one-hot encode the values in the column with pd.get_dummies."
   ]
  },
  {
   "cell_type": "code",
   "execution_count": 477,
   "metadata": {},
   "outputs": [
    {
     "data": {
      "text/html": [
       "<div>\n",
       "<style scoped>\n",
       "    .dataframe tbody tr th:only-of-type {\n",
       "        vertical-align: middle;\n",
       "    }\n",
       "\n",
       "    .dataframe tbody tr th {\n",
       "        vertical-align: top;\n",
       "    }\n",
       "\n",
       "    .dataframe thead th {\n",
       "        text-align: right;\n",
       "    }\n",
       "</style>\n",
       "<table border=\"1\" class=\"dataframe\">\n",
       "  <thead>\n",
       "    <tr style=\"text-align: right;\">\n",
       "      <th></th>\n",
       "      <th>carat</th>\n",
       "      <th>cut</th>\n",
       "      <th>clarity</th>\n",
       "      <th>depth</th>\n",
       "      <th>table</th>\n",
       "      <th>price</th>\n",
       "      <th>x</th>\n",
       "      <th>y</th>\n",
       "      <th>z</th>\n",
       "      <th>color_D</th>\n",
       "      <th>color_E</th>\n",
       "      <th>color_F</th>\n",
       "      <th>color_G</th>\n",
       "      <th>color_H</th>\n",
       "      <th>color_I</th>\n",
       "      <th>color_J</th>\n",
       "    </tr>\n",
       "  </thead>\n",
       "  <tbody>\n",
       "    <tr>\n",
       "      <th>0</th>\n",
       "      <td>0.23</td>\n",
       "      <td>5</td>\n",
       "      <td>4</td>\n",
       "      <td>61.5</td>\n",
       "      <td>55.0</td>\n",
       "      <td>326</td>\n",
       "      <td>3.95</td>\n",
       "      <td>3.98</td>\n",
       "      <td>2.43</td>\n",
       "      <td>0</td>\n",
       "      <td>1</td>\n",
       "      <td>0</td>\n",
       "      <td>0</td>\n",
       "      <td>0</td>\n",
       "      <td>0</td>\n",
       "      <td>0</td>\n",
       "    </tr>\n",
       "    <tr>\n",
       "      <th>1</th>\n",
       "      <td>0.21</td>\n",
       "      <td>4</td>\n",
       "      <td>5</td>\n",
       "      <td>59.8</td>\n",
       "      <td>61.0</td>\n",
       "      <td>326</td>\n",
       "      <td>3.89</td>\n",
       "      <td>3.84</td>\n",
       "      <td>2.31</td>\n",
       "      <td>0</td>\n",
       "      <td>1</td>\n",
       "      <td>0</td>\n",
       "      <td>0</td>\n",
       "      <td>0</td>\n",
       "      <td>0</td>\n",
       "      <td>0</td>\n",
       "    </tr>\n",
       "    <tr>\n",
       "      <th>2</th>\n",
       "      <td>0.23</td>\n",
       "      <td>3</td>\n",
       "      <td>7</td>\n",
       "      <td>56.9</td>\n",
       "      <td>65.0</td>\n",
       "      <td>327</td>\n",
       "      <td>4.05</td>\n",
       "      <td>4.07</td>\n",
       "      <td>2.31</td>\n",
       "      <td>0</td>\n",
       "      <td>1</td>\n",
       "      <td>0</td>\n",
       "      <td>0</td>\n",
       "      <td>0</td>\n",
       "      <td>0</td>\n",
       "      <td>0</td>\n",
       "    </tr>\n",
       "    <tr>\n",
       "      <th>3</th>\n",
       "      <td>0.29</td>\n",
       "      <td>4</td>\n",
       "      <td>6</td>\n",
       "      <td>62.4</td>\n",
       "      <td>58.0</td>\n",
       "      <td>334</td>\n",
       "      <td>4.20</td>\n",
       "      <td>4.23</td>\n",
       "      <td>2.63</td>\n",
       "      <td>0</td>\n",
       "      <td>0</td>\n",
       "      <td>0</td>\n",
       "      <td>0</td>\n",
       "      <td>0</td>\n",
       "      <td>1</td>\n",
       "      <td>0</td>\n",
       "    </tr>\n",
       "    <tr>\n",
       "      <th>4</th>\n",
       "      <td>0.31</td>\n",
       "      <td>3</td>\n",
       "      <td>4</td>\n",
       "      <td>63.3</td>\n",
       "      <td>58.0</td>\n",
       "      <td>335</td>\n",
       "      <td>4.34</td>\n",
       "      <td>4.35</td>\n",
       "      <td>2.75</td>\n",
       "      <td>0</td>\n",
       "      <td>0</td>\n",
       "      <td>0</td>\n",
       "      <td>0</td>\n",
       "      <td>0</td>\n",
       "      <td>0</td>\n",
       "      <td>1</td>\n",
       "    </tr>\n",
       "  </tbody>\n",
       "</table>\n",
       "</div>"
      ],
      "text/plain": [
       "   carat  cut  clarity  depth  table  price     x     y     z  color_D  \\\n",
       "0   0.23    5        4   61.5   55.0    326  3.95  3.98  2.43        0   \n",
       "1   0.21    4        5   59.8   61.0    326  3.89  3.84  2.31        0   \n",
       "2   0.23    3        7   56.9   65.0    327  4.05  4.07  2.31        0   \n",
       "3   0.29    4        6   62.4   58.0    334  4.20  4.23  2.63        0   \n",
       "4   0.31    3        4   63.3   58.0    335  4.34  4.35  2.75        0   \n",
       "\n",
       "   color_E  color_F  color_G  color_H  color_I  color_J  \n",
       "0        1        0        0        0        0        0  \n",
       "1        1        0        0        0        0        0  \n",
       "2        1        0        0        0        0        0  \n",
       "3        0        0        0        0        1        0  \n",
       "4        0        0        0        0        0        1  "
      ]
     },
     "execution_count": 477,
     "metadata": {},
     "output_type": "execute_result"
    }
   ],
   "source": [
    "data_deep = data\n",
    "data_deep = pd.get_dummies(data_deep, columns=['color'], prefix='color')\n",
    "data_deep.head()"
   ]
  },
  {
   "cell_type": "markdown",
   "metadata": {},
   "source": [
    "##### Split the data into training and test sets\n",
    "Now, split the dataset into a training set and a test set. You will use the test set in the final evaluation of your models."
   ]
  },
  {
   "cell_type": "code",
   "execution_count": 478,
   "metadata": {},
   "outputs": [],
   "source": [
    "train_dataset = data_deep.sample(frac=0.8, random_state=0)\n",
    "test_dataset = data_deep.drop(train_dataset.index)\n"
   ]
  },
  {
   "cell_type": "markdown",
   "metadata": {},
   "source": [
    "##### Split features from labels\n",
    "Separate the target value—the \"label\"—from the features. This label is the value that you will train the model to predict."
   ]
  },
  {
   "cell_type": "code",
   "execution_count": 481,
   "metadata": {},
   "outputs": [],
   "source": [
    "train_features = train_dataset.copy()\n",
    "test_features = test_dataset.copy()\n",
    "\n",
    "train_labels = train_features.pop('price')\n",
    "test_labels = test_features.pop('price')\n"
   ]
  },
  {
   "cell_type": "markdown",
   "metadata": {},
   "source": [
    "##### Normalization\n",
    "In the table of statistics it's easy to see how different the ranges of each feature are:"
   ]
  },
  {
   "cell_type": "code",
   "execution_count": 492,
   "metadata": {},
   "outputs": [
    {
     "data": {
      "text/html": [
       "<div>\n",
       "<style scoped>\n",
       "    .dataframe tbody tr th:only-of-type {\n",
       "        vertical-align: middle;\n",
       "    }\n",
       "\n",
       "    .dataframe tbody tr th {\n",
       "        vertical-align: top;\n",
       "    }\n",
       "\n",
       "    .dataframe thead th {\n",
       "        text-align: right;\n",
       "    }\n",
       "</style>\n",
       "<table border=\"1\" class=\"dataframe\">\n",
       "  <thead>\n",
       "    <tr style=\"text-align: right;\">\n",
       "      <th></th>\n",
       "      <th>mean</th>\n",
       "      <th>std</th>\n",
       "    </tr>\n",
       "  </thead>\n",
       "  <tbody>\n",
       "    <tr>\n",
       "      <th>carat</th>\n",
       "      <td>0.797184</td>\n",
       "      <td>0.473724</td>\n",
       "    </tr>\n",
       "    <tr>\n",
       "      <th>cut</th>\n",
       "      <td>3.773035</td>\n",
       "      <td>1.266756</td>\n",
       "    </tr>\n",
       "    <tr>\n",
       "      <th>clarity</th>\n",
       "      <td>6.059395</td>\n",
       "      <td>1.649229</td>\n",
       "    </tr>\n",
       "    <tr>\n",
       "      <th>depth</th>\n",
       "      <td>61.747900</td>\n",
       "      <td>1.430988</td>\n",
       "    </tr>\n",
       "    <tr>\n",
       "      <th>table</th>\n",
       "      <td>57.455726</td>\n",
       "      <td>2.233570</td>\n",
       "    </tr>\n",
       "    <tr>\n",
       "      <th>price</th>\n",
       "      <td>3929.801237</td>\n",
       "      <td>3989.630670</td>\n",
       "    </tr>\n",
       "    <tr>\n",
       "      <th>x</th>\n",
       "      <td>5.728950</td>\n",
       "      <td>1.122392</td>\n",
       "    </tr>\n",
       "    <tr>\n",
       "      <th>y</th>\n",
       "      <td>5.732241</td>\n",
       "      <td>1.142865</td>\n",
       "    </tr>\n",
       "    <tr>\n",
       "      <th>z</th>\n",
       "      <td>3.537722</td>\n",
       "      <td>0.708590</td>\n",
       "    </tr>\n",
       "    <tr>\n",
       "      <th>color_D</th>\n",
       "      <td>0.126159</td>\n",
       "      <td>0.332032</td>\n",
       "    </tr>\n",
       "    <tr>\n",
       "      <th>color_E</th>\n",
       "      <td>0.180548</td>\n",
       "      <td>0.384648</td>\n",
       "    </tr>\n",
       "    <tr>\n",
       "      <th>color_F</th>\n",
       "      <td>0.175380</td>\n",
       "      <td>0.380296</td>\n",
       "    </tr>\n",
       "    <tr>\n",
       "      <th>color_G</th>\n",
       "      <td>0.209932</td>\n",
       "      <td>0.407265</td>\n",
       "    </tr>\n",
       "    <tr>\n",
       "      <th>color_H</th>\n",
       "      <td>0.154431</td>\n",
       "      <td>0.361365</td>\n",
       "    </tr>\n",
       "    <tr>\n",
       "      <th>color_I</th>\n",
       "      <td>0.099671</td>\n",
       "      <td>0.299564</td>\n",
       "    </tr>\n",
       "    <tr>\n",
       "      <th>color_J</th>\n",
       "      <td>0.053879</td>\n",
       "      <td>0.225782</td>\n",
       "    </tr>\n",
       "  </tbody>\n",
       "</table>\n",
       "</div>"
      ],
      "text/plain": [
       "                mean          std\n",
       "carat       0.797184     0.473724\n",
       "cut         3.773035     1.266756\n",
       "clarity     6.059395     1.649229\n",
       "depth      61.747900     1.430988\n",
       "table      57.455726     2.233570\n",
       "price    3929.801237  3989.630670\n",
       "x           5.728950     1.122392\n",
       "y           5.732241     1.142865\n",
       "z           3.537722     0.708590\n",
       "color_D     0.126159     0.332032\n",
       "color_E     0.180548     0.384648\n",
       "color_F     0.175380     0.380296\n",
       "color_G     0.209932     0.407265\n",
       "color_H     0.154431     0.361365\n",
       "color_I     0.099671     0.299564\n",
       "color_J     0.053879     0.225782"
      ]
     },
     "execution_count": 492,
     "metadata": {},
     "output_type": "execute_result"
    }
   ],
   "source": [
    "train_dataset.describe().transpose()[['mean', 'std']]"
   ]
  },
  {
   "cell_type": "markdown",
   "metadata": {},
   "source": [
    "It is good practice to normalize features that use different scales and ranges.\n",
    "\n",
    "One reason this is important is because the features are multiplied by the model weights. So, the scale of the outputs and the scale of the gradients are affected by the scale of the inputs.\n",
    "\n",
    "Although a model might converge without feature normalization, normalization makes training much more stable."
   ]
  },
  {
   "cell_type": "markdown",
   "metadata": {},
   "source": [
    "##### The Normalization layer\n",
    "The tf.keras.layers.Normalization is a clean and simple way to add feature normalization into your model.\n",
    "\n",
    "The first step is to create the layer:"
   ]
  },
  {
   "cell_type": "code",
   "execution_count": 493,
   "metadata": {},
   "outputs": [],
   "source": [
    "normalizer = tf.keras.layers.Normalization(axis=-1)\n"
   ]
  },
  {
   "cell_type": "markdown",
   "metadata": {},
   "source": [
    "Then, fit the state of the preprocessing layer to the data by calling Normalization.adapt:"
   ]
  },
  {
   "cell_type": "code",
   "execution_count": 494,
   "metadata": {},
   "outputs": [],
   "source": [
    "normalizer.adapt(np.array(train_features))"
   ]
  },
  {
   "cell_type": "markdown",
   "metadata": {},
   "source": [
    "Calculate the mean and variance, and store them in the layer:"
   ]
  },
  {
   "cell_type": "code",
   "execution_count": 495,
   "metadata": {},
   "outputs": [
    {
     "name": "stdout",
     "output_type": "stream",
     "text": [
      "[[7.9718351e-01 3.7730343e+00 6.0593863e+00 6.1747860e+01 5.7455765e+01\n",
      "  5.7289433e+00 5.7322426e+00 3.5377181e+00 1.2615842e-01 1.8054757e-01\n",
      "  1.7538005e-01 2.0993228e-01 1.5443079e-01 9.9671006e-02 5.3879287e-02]]\n"
     ]
    }
   ],
   "source": [
    "print(normalizer.mean.numpy())"
   ]
  },
  {
   "cell_type": "markdown",
   "metadata": {},
   "source": [
    "When the layer is called, it returns the input data, with each feature independently normalized:"
   ]
  },
  {
   "cell_type": "code",
   "execution_count": 496,
   "metadata": {},
   "outputs": [
    {
     "name": "stdout",
     "output_type": "stream",
     "text": [
      "First example: [[ 1.1   5.    4.   62.   55.    6.61  6.65  4.11  0.    0.    0.    0.\n",
      "   1.    0.    0.  ]]\n",
      "\n",
      "Normalized: [[ 0.64  0.97 -1.25  0.18 -1.1   0.78  0.8   0.81 -0.38 -0.47 -0.46 -0.52\n",
      "   2.34 -0.33 -0.24]]\n"
     ]
    }
   ],
   "source": [
    "first = np.array(train_features[:1])\n",
    "\n",
    "with np.printoptions(precision=2, suppress=True):\n",
    "    print('First example:', first)\n",
    "    print()\n",
    "    print('Normalized:', normalizer(first).numpy())\n"
   ]
  },
  {
   "cell_type": "markdown",
   "metadata": {},
   "source": [
    "##### Linear regression\n",
    "Before building a deep neural network model, start with linear regression using one and several variables.\n",
    "\n",
    "##### Linear regression with one variable\n",
    "Begin with a single-variable linear regression to predict 'price' from 'carat'.\n",
    "\n",
    "Training a model with tf.keras typically starts by defining the model architecture. Use a tf.keras.Sequential model, which represents a sequence of steps.\n",
    "\n",
    "There are two steps in your single-variable linear regression model:\n",
    "\n",
    "Normalize the 'carat' input features using the tf.keras.layers.Normalization preprocessing layer.\n",
    "Apply a linear transformation () to produce 1 output using a linear layer (tf.keras.layers.Dense).\n",
    "The number of inputs can either be set by the input_shape argument, or automatically when the model is run for the first time.\n",
    "\n",
    "First, create a NumPy array made of the 'carat' features. Then, instantiate the tf.keras.layers.Normalization and fit its state to the horsepower data:\n",
    "\n",
    "\n"
   ]
  },
  {
   "cell_type": "code",
   "execution_count": 498,
   "metadata": {},
   "outputs": [],
   "source": [
    "carat = np.array(train_features['carat'])\n",
    "\n",
    "carat_normalizer = Normalization(input_shape=[1, ], axis=None)\n",
    "carat_normalizer.adapt(carat)\n"
   ]
  },
  {
   "cell_type": "markdown",
   "metadata": {},
   "source": [
    "Build the Keras Sequential model:"
   ]
  },
  {
   "cell_type": "code",
   "execution_count": 499,
   "metadata": {},
   "outputs": [
    {
     "name": "stdout",
     "output_type": "stream",
     "text": [
      "Model: \"sequential\"\n",
      "_________________________________________________________________\n",
      " Layer (type)                Output Shape              Param #   \n",
      "=================================================================\n",
      " normalization_1 (Normalizat  (None, 1)                3         \n",
      " ion)                                                            \n",
      "                                                                 \n",
      " dense_87 (Dense)            (None, 1)                 2         \n",
      "                                                                 \n",
      "=================================================================\n",
      "Total params: 5\n",
      "Trainable params: 2\n",
      "Non-trainable params: 3\n",
      "_________________________________________________________________\n"
     ]
    }
   ],
   "source": [
    "carat_model = tf.keras.Sequential([\n",
    "    carat_normalizer,\n",
    "    Dense(units=1)\n",
    "])\n",
    "\n",
    "carat_model.summary()\n"
   ]
  },
  {
   "cell_type": "markdown",
   "metadata": {},
   "source": [
    "This model will predict 'price' from 'carat'.\n",
    "\n",
    "Run the untrained model on the first 10 'carat' values. The output won't be good, but notice that it has the expected shape of (10, 1):"
   ]
  },
  {
   "cell_type": "code",
   "execution_count": 500,
   "metadata": {},
   "outputs": [
    {
     "data": {
      "text/plain": [
       "array([[-0.80408126],\n",
       "       [-1.308596  ],\n",
       "       [-1.0696155 ],\n",
       "       [-1.8662177 ],\n",
       "       [-0.27301282],\n",
       "       [ 1.2670853 ],\n",
       "       [ 1.320192  ],\n",
       "       [ 0.49703613],\n",
       "       [-3.2204418 ],\n",
       "       [ 1.2936386 ]], dtype=float32)"
      ]
     },
     "execution_count": 500,
     "metadata": {},
     "output_type": "execute_result"
    }
   ],
   "source": [
    "carat_model.predict(carat[:10])\n"
   ]
  },
  {
   "cell_type": "markdown",
   "metadata": {},
   "source": [
    "Once the model is built, configure the training procedure using the Keras Model.compile method. The most important arguments to compile are the loss and the optimizer, since these define what will be optimized (mean_absolute_error) and how (using the tf.keras.optimizers.Adam)."
   ]
  },
  {
   "cell_type": "code",
   "execution_count": 501,
   "metadata": {},
   "outputs": [],
   "source": [
    "carat_model.compile(\n",
    "    optimizer=tf.optimizers.Adam(learning_rate=0.1),\n",
    "    loss='mean_absolute_error')"
   ]
  },
  {
   "cell_type": "markdown",
   "metadata": {},
   "source": [
    "Use Keras Model.fit to execute the training for 100 epochs:"
   ]
  },
  {
   "cell_type": "code",
   "execution_count": 504,
   "metadata": {},
   "outputs": [
    {
     "name": "stdout",
     "output_type": "stream",
     "text": [
      "Epoch 1/100\n",
      "1079/1079 [==============================] - 2s 2ms/step - loss: 3886.1492 - val_loss: 3781.0156\n",
      "Epoch 2/100\n",
      "1079/1079 [==============================] - 2s 1ms/step - loss: 3778.2402 - val_loss: 3673.1306\n",
      "Epoch 3/100\n",
      "1079/1079 [==============================] - 2s 1ms/step - loss: 3670.3254 - val_loss: 3565.2480\n",
      "Epoch 4/100\n",
      "1079/1079 [==============================] - 2s 1ms/step - loss: 3562.6179 - val_loss: 3458.2483\n",
      "Epoch 5/100\n",
      "1079/1079 [==============================] - 2s 1ms/step - loss: 3457.8677 - val_loss: 3356.0781\n",
      "Epoch 6/100\n",
      "1079/1079 [==============================] - 2s 1ms/step - loss: 3357.1277 - val_loss: 3256.7339\n",
      "Epoch 7/100\n",
      "1079/1079 [==============================] - 2s 1ms/step - loss: 3257.2278 - val_loss: 3157.6096\n",
      "Epoch 8/100\n",
      "1079/1079 [==============================] - 2s 1ms/step - loss: 3156.7932 - val_loss: 3057.8679\n",
      "Epoch 9/100\n",
      "1079/1079 [==============================] - 2s 2ms/step - loss: 3055.6438 - val_loss: 2957.7024\n",
      "Epoch 10/100\n",
      "1079/1079 [==============================] - 2s 2ms/step - loss: 2954.3706 - val_loss: 2857.7488\n",
      "Epoch 11/100\n",
      "1079/1079 [==============================] - 2s 2ms/step - loss: 2852.9683 - val_loss: 2757.5327\n",
      "Epoch 12/100\n",
      "1079/1079 [==============================] - 2s 2ms/step - loss: 2751.3726 - val_loss: 2657.3706\n",
      "Epoch 13/100\n",
      "1079/1079 [==============================] - 2s 2ms/step - loss: 2649.8433 - val_loss: 2557.2629\n",
      "Epoch 14/100\n",
      "1079/1079 [==============================] - 2s 2ms/step - loss: 2548.6438 - val_loss: 2457.6538\n",
      "Epoch 15/100\n",
      "1079/1079 [==============================] - 2s 2ms/step - loss: 2447.7239 - val_loss: 2358.2500\n",
      "Epoch 16/100\n",
      "1079/1079 [==============================] - 2s 2ms/step - loss: 2347.5259 - val_loss: 2260.0586\n",
      "Epoch 17/100\n",
      "1079/1079 [==============================] - 2s 2ms/step - loss: 2248.4182 - val_loss: 2162.5415\n",
      "Epoch 18/100\n",
      "1079/1079 [==============================] - 2s 2ms/step - loss: 2150.1858 - val_loss: 2065.8821\n",
      "Epoch 19/100\n",
      "1079/1079 [==============================] - 2s 1ms/step - loss: 2053.1111 - val_loss: 1970.5598\n",
      "Epoch 20/100\n",
      "1079/1079 [==============================] - 2s 2ms/step - loss: 1957.7310 - val_loss: 1876.9255\n",
      "Epoch 21/100\n",
      "1079/1079 [==============================] - 2s 2ms/step - loss: 1864.0947 - val_loss: 1785.2059\n",
      "Epoch 22/100\n",
      "1079/1079 [==============================] - 2s 1ms/step - loss: 1772.3713 - val_loss: 1695.9020\n",
      "Epoch 23/100\n",
      "1079/1079 [==============================] - 2s 2ms/step - loss: 1683.1133 - val_loss: 1609.5048\n",
      "Epoch 24/100\n",
      "1079/1079 [==============================] - 2s 2ms/step - loss: 1596.9663 - val_loss: 1526.7317\n",
      "Epoch 25/100\n",
      "1079/1079 [==============================] - 2s 1ms/step - loss: 1514.8312 - val_loss: 1448.2473\n",
      "Epoch 26/100\n",
      "1079/1079 [==============================] - 2s 2ms/step - loss: 1437.1494 - val_loss: 1374.4823\n",
      "Epoch 27/100\n",
      "1079/1079 [==============================] - 2s 2ms/step - loss: 1364.3361 - val_loss: 1305.6552\n",
      "Epoch 28/100\n",
      "1079/1079 [==============================] - 2s 2ms/step - loss: 1297.4766 - val_loss: 1243.5319\n",
      "Epoch 29/100\n",
      "1079/1079 [==============================] - 2s 1ms/step - loss: 1236.9640 - val_loss: 1188.1211\n",
      "Epoch 30/100\n",
      "1079/1079 [==============================] - 2s 2ms/step - loss: 1182.6436 - val_loss: 1138.2266\n",
      "Epoch 31/100\n",
      "1079/1079 [==============================] - 2s 2ms/step - loss: 1135.0471 - val_loss: 1094.9293\n",
      "Epoch 32/100\n",
      "1079/1079 [==============================] - 2s 1ms/step - loss: 1095.1115 - val_loss: 1059.1093\n",
      "Epoch 33/100\n",
      "1079/1079 [==============================] - 2s 2ms/step - loss: 1062.0065 - val_loss: 1029.4984\n",
      "Epoch 34/100\n",
      "1079/1079 [==============================] - 2s 2ms/step - loss: 1035.0923 - val_loss: 1004.7552\n",
      "Epoch 35/100\n",
      "1079/1079 [==============================] - 2s 2ms/step - loss: 1013.6267 - val_loss: 985.2867\n",
      "Epoch 36/100\n",
      "1079/1079 [==============================] - 2s 2ms/step - loss: 997.1127 - val_loss: 970.6198\n",
      "Epoch 37/100\n",
      "1079/1079 [==============================] - 2s 2ms/step - loss: 984.9941 - val_loss: 959.5842\n",
      "Epoch 38/100\n",
      "1079/1079 [==============================] - 1s 1ms/step - loss: 976.2158 - val_loss: 951.6422\n",
      "Epoch 39/100\n",
      "1079/1079 [==============================] - 2s 2ms/step - loss: 969.8568 - val_loss: 945.7642\n",
      "Epoch 40/100\n",
      "1079/1079 [==============================] - 2s 2ms/step - loss: 965.3646 - val_loss: 941.6019\n",
      "Epoch 41/100\n",
      "1079/1079 [==============================] - 1s 1ms/step - loss: 962.2662 - val_loss: 938.7148\n",
      "Epoch 42/100\n",
      "1079/1079 [==============================] - 1s 1ms/step - loss: 960.1743 - val_loss: 936.7374\n",
      "Epoch 43/100\n",
      "1079/1079 [==============================] - 1s 1ms/step - loss: 958.7476 - val_loss: 935.2864\n",
      "Epoch 44/100\n",
      "1079/1079 [==============================] - 1s 1ms/step - loss: 957.7738 - val_loss: 934.2532\n",
      "Epoch 45/100\n",
      "1079/1079 [==============================] - 1s 1ms/step - loss: 957.1404 - val_loss: 933.5182\n",
      "Epoch 46/100\n",
      "1079/1079 [==============================] - 1s 1ms/step - loss: 956.7153 - val_loss: 933.0014\n",
      "Epoch 47/100\n",
      "1079/1079 [==============================] - 1s 1ms/step - loss: 956.4344 - val_loss: 932.6555\n",
      "Epoch 48/100\n",
      "1079/1079 [==============================] - 1s 1ms/step - loss: 956.2535 - val_loss: 932.4116\n",
      "Epoch 49/100\n",
      "1079/1079 [==============================] - 1s 1ms/step - loss: 956.1291 - val_loss: 932.2306\n",
      "Epoch 50/100\n",
      "1079/1079 [==============================] - 1s 1ms/step - loss: 956.0515 - val_loss: 932.1099\n",
      "Epoch 51/100\n",
      "1079/1079 [==============================] - 1s 1ms/step - loss: 955.9908 - val_loss: 932.0056\n",
      "Epoch 52/100\n",
      "1079/1079 [==============================] - 1s 1ms/step - loss: 955.9532 - val_loss: 931.9501\n",
      "Epoch 53/100\n",
      "1079/1079 [==============================] - 1s 1ms/step - loss: 955.9300 - val_loss: 931.9176\n",
      "Epoch 54/100\n",
      "1079/1079 [==============================] - 1s 1ms/step - loss: 955.9128 - val_loss: 931.8633\n",
      "Epoch 55/100\n",
      "1079/1079 [==============================] - 1s 1ms/step - loss: 955.8990 - val_loss: 931.8282\n",
      "Epoch 56/100\n",
      "1079/1079 [==============================] - 2s 2ms/step - loss: 955.8881 - val_loss: 931.8190\n",
      "Epoch 57/100\n",
      "1079/1079 [==============================] - 2s 2ms/step - loss: 955.8829 - val_loss: 931.7717\n",
      "Epoch 58/100\n",
      "1079/1079 [==============================] - 1s 1ms/step - loss: 955.8808 - val_loss: 931.7649\n",
      "Epoch 59/100\n",
      "1079/1079 [==============================] - 1s 1ms/step - loss: 955.8790 - val_loss: 931.7551\n",
      "Epoch 60/100\n",
      "1079/1079 [==============================] - 1s 1ms/step - loss: 955.8771 - val_loss: 931.7449\n",
      "Epoch 61/100\n",
      "1079/1079 [==============================] - 1s 1ms/step - loss: 955.8768 - val_loss: 931.7277\n",
      "Epoch 62/100\n",
      "1079/1079 [==============================] - 1s 1ms/step - loss: 955.8756 - val_loss: 931.7257\n",
      "Epoch 63/100\n",
      "1079/1079 [==============================] - 1s 1ms/step - loss: 955.8706 - val_loss: 931.7221\n",
      "Epoch 64/100\n",
      "1079/1079 [==============================] - 1s 1ms/step - loss: 955.8719 - val_loss: 931.7184\n",
      "Epoch 65/100\n",
      "1079/1079 [==============================] - 1s 1ms/step - loss: 955.8719 - val_loss: 931.7053\n",
      "Epoch 66/100\n",
      "1079/1079 [==============================] - 1s 1ms/step - loss: 955.8715 - val_loss: 931.7037\n",
      "Epoch 67/100\n",
      "1079/1079 [==============================] - 2s 2ms/step - loss: 955.8726 - val_loss: 931.6914\n",
      "Epoch 68/100\n",
      "1079/1079 [==============================] - 2s 2ms/step - loss: 955.8706 - val_loss: 931.6981\n",
      "Epoch 69/100\n",
      "1079/1079 [==============================] - 2s 2ms/step - loss: 955.8694 - val_loss: 931.6933\n",
      "Epoch 70/100\n",
      "1079/1079 [==============================] - 1s 1ms/step - loss: 955.8688 - val_loss: 931.6901\n",
      "Epoch 71/100\n",
      "1079/1079 [==============================] - 2s 1ms/step - loss: 955.8693 - val_loss: 931.6841\n",
      "Epoch 72/100\n",
      "1079/1079 [==============================] - 2s 2ms/step - loss: 955.8671 - val_loss: 931.7045\n",
      "Epoch 73/100\n",
      "1079/1079 [==============================] - 1s 1ms/step - loss: 955.8713 - val_loss: 931.7023\n",
      "Epoch 74/100\n",
      "1079/1079 [==============================] - 1s 1ms/step - loss: 955.8695 - val_loss: 931.6891\n",
      "Epoch 75/100\n",
      "1079/1079 [==============================] - 1s 1ms/step - loss: 955.8721 - val_loss: 931.6908\n",
      "Epoch 76/100\n",
      "1079/1079 [==============================] - 1s 1ms/step - loss: 955.8702 - val_loss: 931.6967\n",
      "Epoch 77/100\n",
      "1079/1079 [==============================] - 2s 2ms/step - loss: 955.8706 - val_loss: 931.6931\n",
      "Epoch 78/100\n",
      "1079/1079 [==============================] - 1s 1ms/step - loss: 955.8724 - val_loss: 931.6853\n",
      "Epoch 79/100\n",
      "1079/1079 [==============================] - 2s 2ms/step - loss: 955.8719 - val_loss: 931.6991\n",
      "Epoch 80/100\n",
      "1079/1079 [==============================] - 2s 2ms/step - loss: 955.8712 - val_loss: 931.6998\n",
      "Epoch 81/100\n",
      "1079/1079 [==============================] - 2s 2ms/step - loss: 955.8743 - val_loss: 931.7000\n",
      "Epoch 82/100\n",
      "1079/1079 [==============================] - 2s 1ms/step - loss: 955.8701 - val_loss: 931.6974\n",
      "Epoch 83/100\n",
      "1079/1079 [==============================] - 1s 1ms/step - loss: 955.8691 - val_loss: 931.6902\n",
      "Epoch 84/100\n",
      "1079/1079 [==============================] - 1s 1ms/step - loss: 955.8684 - val_loss: 931.6844\n",
      "Epoch 85/100\n",
      "1079/1079 [==============================] - 1s 1ms/step - loss: 955.8698 - val_loss: 931.6970\n",
      "Epoch 86/100\n",
      "1079/1079 [==============================] - 1s 1ms/step - loss: 955.8696 - val_loss: 931.7042\n",
      "Epoch 87/100\n",
      "1079/1079 [==============================] - 1s 1ms/step - loss: 955.8692 - val_loss: 931.7116\n",
      "Epoch 88/100\n",
      "1079/1079 [==============================] - 1s 1ms/step - loss: 955.8698 - val_loss: 931.6824\n",
      "Epoch 89/100\n",
      "1079/1079 [==============================] - 1s 1ms/step - loss: 955.8722 - val_loss: 931.6914\n",
      "Epoch 90/100\n",
      "1079/1079 [==============================] - 1s 1ms/step - loss: 955.8716 - val_loss: 931.6929\n",
      "Epoch 91/100\n",
      "1079/1079 [==============================] - 1s 1ms/step - loss: 955.8739 - val_loss: 931.6913\n",
      "Epoch 92/100\n",
      "1079/1079 [==============================] - 1s 1ms/step - loss: 955.8713 - val_loss: 931.6840\n",
      "Epoch 93/100\n",
      "1079/1079 [==============================] - 1s 1ms/step - loss: 955.8727 - val_loss: 931.6877\n",
      "Epoch 94/100\n",
      "1079/1079 [==============================] - 1s 1ms/step - loss: 955.8682 - val_loss: 931.6824\n",
      "Epoch 95/100\n",
      "1079/1079 [==============================] - 1s 1ms/step - loss: 955.8708 - val_loss: 931.6919\n",
      "Epoch 96/100\n",
      "1079/1079 [==============================] - 1s 1ms/step - loss: 955.8739 - val_loss: 931.6880\n",
      "Epoch 97/100\n",
      "1079/1079 [==============================] - 1s 1ms/step - loss: 955.8705 - val_loss: 931.6865\n",
      "Epoch 98/100\n",
      "1079/1079 [==============================] - 1s 1ms/step - loss: 955.8723 - val_loss: 931.6800\n",
      "Epoch 99/100\n",
      "1079/1079 [==============================] - 2s 2ms/step - loss: 955.8696 - val_loss: 931.6946\n",
      "Epoch 100/100\n",
      "1079/1079 [==============================] - 2s 2ms/step - loss: 955.8677 - val_loss: 931.6780\n",
      "CPU times: user 4min 15s, sys: 1min 22s, total: 5min 37s\n",
      "Wall time: 2min 33s\n"
     ]
    }
   ],
   "source": [
    "%%time\n",
    "history = carat_model.fit(\n",
    "    train_features['carat'],\n",
    "    train_labels,\n",
    "    epochs=100,\n",
    "    # Calculate validation results on 20% of the training data.\n",
    "    validation_split=0.2)\n"
   ]
  },
  {
   "cell_type": "markdown",
   "metadata": {},
   "source": [
    "Visualize the model's training progress using the stats stored in the history object:"
   ]
  },
  {
   "cell_type": "code",
   "execution_count": 505,
   "metadata": {},
   "outputs": [
    {
     "data": {
      "text/html": [
       "<div>\n",
       "<style scoped>\n",
       "    .dataframe tbody tr th:only-of-type {\n",
       "        vertical-align: middle;\n",
       "    }\n",
       "\n",
       "    .dataframe tbody tr th {\n",
       "        vertical-align: top;\n",
       "    }\n",
       "\n",
       "    .dataframe thead th {\n",
       "        text-align: right;\n",
       "    }\n",
       "</style>\n",
       "<table border=\"1\" class=\"dataframe\">\n",
       "  <thead>\n",
       "    <tr style=\"text-align: right;\">\n",
       "      <th></th>\n",
       "      <th>loss</th>\n",
       "      <th>val_loss</th>\n",
       "      <th>epoch</th>\n",
       "    </tr>\n",
       "  </thead>\n",
       "  <tbody>\n",
       "    <tr>\n",
       "      <th>95</th>\n",
       "      <td>955.873901</td>\n",
       "      <td>931.688049</td>\n",
       "      <td>95</td>\n",
       "    </tr>\n",
       "    <tr>\n",
       "      <th>96</th>\n",
       "      <td>955.870483</td>\n",
       "      <td>931.686523</td>\n",
       "      <td>96</td>\n",
       "    </tr>\n",
       "    <tr>\n",
       "      <th>97</th>\n",
       "      <td>955.872314</td>\n",
       "      <td>931.679993</td>\n",
       "      <td>97</td>\n",
       "    </tr>\n",
       "    <tr>\n",
       "      <th>98</th>\n",
       "      <td>955.869568</td>\n",
       "      <td>931.694641</td>\n",
       "      <td>98</td>\n",
       "    </tr>\n",
       "    <tr>\n",
       "      <th>99</th>\n",
       "      <td>955.867676</td>\n",
       "      <td>931.677979</td>\n",
       "      <td>99</td>\n",
       "    </tr>\n",
       "  </tbody>\n",
       "</table>\n",
       "</div>"
      ],
      "text/plain": [
       "          loss    val_loss  epoch\n",
       "95  955.873901  931.688049     95\n",
       "96  955.870483  931.686523     96\n",
       "97  955.872314  931.679993     97\n",
       "98  955.869568  931.694641     98\n",
       "99  955.867676  931.677979     99"
      ]
     },
     "execution_count": 505,
     "metadata": {},
     "output_type": "execute_result"
    }
   ],
   "source": [
    "hist = pd.DataFrame(history.history)\n",
    "hist['epoch'] = history.epoch\n",
    "hist.tail()\n"
   ]
  },
  {
   "cell_type": "code",
   "execution_count": 515,
   "metadata": {},
   "outputs": [],
   "source": [
    "def plot_loss(history):\n",
    "    plt.plot(history.history['loss'], label='loss')\n",
    "    plt.plot(history.history['val_loss'], label='val_loss') \n",
    "    plt.xlabel('Epoch')\n",
    "    plt.ylabel('Error [price]')\n",
    "    plt.legend()\n",
    "    plt.grid(True)\n",
    "    plt.show()\n"
   ]
  },
  {
   "cell_type": "code",
   "execution_count": 516,
   "metadata": {},
   "outputs": [
    {
     "data": {
      "image/png": "[encoded data removed]",
      "text/plain": [
       "<Figure size 432x288 with 1 Axes>"
      ]
     },
     "metadata": {},
     "output_type": "display_data"
    }
   ],
   "source": [
    "plot_loss(history) \n"
   ]
  },
  {
   "cell_type": "markdown",
   "metadata": {},
   "source": [
    "Collect the results on the test set for later:"
   ]
  },
  {
   "cell_type": "code",
   "execution_count": 517,
   "metadata": {},
   "outputs": [],
   "source": [
    "test_results = {}\n",
    "\n",
    "test_results['carat_model'] = carat_model.evaluate(\n",
    "    test_features['carat'],\n",
    "    test_labels, verbose=0)\n"
   ]
  },
  {
   "cell_type": "markdown",
   "metadata": {},
   "source": [
    "Since this is a single variable regression, it's easy to view the model's predictions as a function of the input:"
   ]
  },
  {
   "cell_type": "code",
   "execution_count": 527,
   "metadata": {},
   "outputs": [],
   "source": [
    "x = tf.linspace(0.0, 4, 50)\n",
    "y = carat_model.predict(x)\n"
   ]
  },
  {
   "cell_type": "code",
   "execution_count": 549,
   "metadata": {},
   "outputs": [],
   "source": [
    "def plot_carat(x, y):\n",
    "    plt.figure(figsize=(15, 10))\n",
    "    plt.scatter(train_features['carat'], train_labels, label='Data')\n",
    "    plt.plot(x, y, color='k', label='Predictions')\n",
    "    plt.xlabel('carat')\n",
    "    plt.ylabel('price')\n",
    "    plt.legend()\n"
   ]
  },
  {
   "cell_type": "code",
   "execution_count": 531,
   "metadata": {},
   "outputs": [
    {
     "data": {
      "image/png": "[encoded data removed]",
      "text/plain": [
       "<Figure size 1080x720 with 1 Axes>"
      ]
     },
     "metadata": {},
     "output_type": "display_data"
    }
   ],
   "source": [
    "plot_carat(x,y)"
   ]
  },
  {
   "cell_type": "markdown",
   "metadata": {},
   "source": [
    "##### Linear regression with multiple inputs\n",
    "You can use an almost identical setup to make predictions based on multiple inputs. This model still does the same `y = mx + b` except that `m` is a matrix and `b` is a vector.\n",
    "\n",
    "Create a two-step Keras Sequential model again with the first layer being normalizer (tf.keras.layers.Normalization(axis=-1)) you defined earlier and adapted to the whole dataset:"
   ]
  },
  {
   "cell_type": "code",
   "execution_count": 532,
   "metadata": {},
   "outputs": [],
   "source": [
    "linear_model = tf.keras.Sequential([\n",
    "    normalizer,\n",
    "    Dense(units=1)\n",
    "])"
   ]
  },
  {
   "cell_type": "markdown",
   "metadata": {},
   "source": [
    "Configure the model with Keras Model.compile and train with Model.fit for 100 epochs:"
   ]
  },
  {
   "cell_type": "code",
   "execution_count": 533,
   "metadata": {},
   "outputs": [],
   "source": [
    "linear_model.compile(\n",
    "    optimizer=tf.optimizers.Adam(learning_rate=0.1),\n",
    "    loss='mean_absolute_error')"
   ]
  },
  {
   "cell_type": "code",
   "execution_count": 536,
   "metadata": {},
   "outputs": [
    {
     "name": "stdout",
     "output_type": "stream",
     "text": [
      "Epoch 1/100\n",
      "1079/1079 [==============================] - 2s 2ms/step - loss: 833.9733 - val_loss: 812.8000\n",
      "Epoch 2/100\n",
      "1079/1079 [==============================] - 3s 2ms/step - loss: 831.1848 - val_loss: 809.9588\n",
      "Epoch 3/100\n",
      "1079/1079 [==============================] - 1s 1ms/step - loss: 828.4339 - val_loss: 807.1069\n",
      "Epoch 4/100\n",
      "1079/1079 [==============================] - 1s 1ms/step - loss: 825.7274 - val_loss: 804.3632\n",
      "Epoch 5/100\n",
      "1079/1079 [==============================] - 1s 1ms/step - loss: 823.0703 - val_loss: 801.6379\n",
      "Epoch 6/100\n",
      "1079/1079 [==============================] - 1s 1ms/step - loss: 820.3934 - val_loss: 798.8339\n",
      "Epoch 7/100\n",
      "1079/1079 [==============================] - 1s 1ms/step - loss: 817.7462 - val_loss: 796.1119\n",
      "Epoch 8/100\n",
      "1079/1079 [==============================] - 1s 1ms/step - loss: 815.1047 - val_loss: 793.5562\n",
      "Epoch 9/100\n",
      "1079/1079 [==============================] - 1s 1ms/step - loss: 812.5365 - val_loss: 790.8481\n",
      "Epoch 10/100\n",
      "1079/1079 [==============================] - 1s 1ms/step - loss: 810.0261 - val_loss: 788.3312\n",
      "Epoch 11/100\n",
      "1079/1079 [==============================] - 1s 1ms/step - loss: 807.5620 - val_loss: 785.8146\n",
      "Epoch 12/100\n",
      "1079/1079 [==============================] - 1s 1ms/step - loss: 805.1434 - val_loss: 783.3490\n",
      "Epoch 13/100\n",
      "1079/1079 [==============================] - 1s 1ms/step - loss: 802.7786 - val_loss: 780.9661\n",
      "Epoch 14/100\n",
      "1079/1079 [==============================] - 1s 1ms/step - loss: 800.4496 - val_loss: 778.6082\n",
      "Epoch 15/100\n",
      "1079/1079 [==============================] - 1s 1ms/step - loss: 798.1452 - val_loss: 776.2098\n",
      "Epoch 16/100\n",
      "1079/1079 [==============================] - 1s 1ms/step - loss: 795.8676 - val_loss: 773.9155\n",
      "Epoch 17/100\n",
      "1079/1079 [==============================] - 1s 1ms/step - loss: 793.6960 - val_loss: 771.5831\n",
      "Epoch 18/100\n",
      "1079/1079 [==============================] - 1s 1ms/step - loss: 791.4958 - val_loss: 769.3273\n",
      "Epoch 19/100\n",
      "1079/1079 [==============================] - 1s 1ms/step - loss: 789.3295 - val_loss: 767.2582\n",
      "Epoch 20/100\n",
      "1079/1079 [==============================] - 1s 1ms/step - loss: 787.2112 - val_loss: 765.1064\n",
      "Epoch 21/100\n",
      "1079/1079 [==============================] - 1s 1ms/step - loss: 785.1432 - val_loss: 763.2040\n",
      "Epoch 22/100\n",
      "1079/1079 [==============================] - 1s 1ms/step - loss: 783.1447 - val_loss: 761.2077\n",
      "Epoch 23/100\n",
      "1079/1079 [==============================] - 1s 1ms/step - loss: 781.1545 - val_loss: 759.3279\n",
      "Epoch 24/100\n",
      "1079/1079 [==============================] - 1s 1ms/step - loss: 779.2054 - val_loss: 757.5398\n",
      "Epoch 25/100\n",
      "1079/1079 [==============================] - 1s 1ms/step - loss: 777.3261 - val_loss: 755.7623\n",
      "Epoch 26/100\n",
      "1079/1079 [==============================] - 1s 1ms/step - loss: 775.4734 - val_loss: 754.0576\n",
      "Epoch 27/100\n",
      "1079/1079 [==============================] - 1s 1ms/step - loss: 773.5706 - val_loss: 752.3147\n",
      "Epoch 28/100\n",
      "1079/1079 [==============================] - 1s 1ms/step - loss: 771.8115 - val_loss: 750.6884\n",
      "Epoch 29/100\n",
      "1079/1079 [==============================] - 1s 1ms/step - loss: 769.9793 - val_loss: 749.0780\n",
      "Epoch 30/100\n",
      "1079/1079 [==============================] - 1s 1ms/step - loss: 768.1359 - val_loss: 747.3585\n",
      "Epoch 31/100\n",
      "1079/1079 [==============================] - 1s 1ms/step - loss: 766.3304 - val_loss: 745.7114\n",
      "Epoch 32/100\n",
      "1079/1079 [==============================] - 1s 1ms/step - loss: 764.5208 - val_loss: 744.0259\n",
      "Epoch 33/100\n",
      "1079/1079 [==============================] - 1s 1ms/step - loss: 762.7846 - val_loss: 742.4932\n",
      "Epoch 34/100\n",
      "1079/1079 [==============================] - 1s 1ms/step - loss: 761.0907 - val_loss: 741.0510\n",
      "Epoch 35/100\n",
      "1079/1079 [==============================] - 1s 1ms/step - loss: 759.4316 - val_loss: 739.4724\n",
      "Epoch 36/100\n",
      "1079/1079 [==============================] - 1s 1ms/step - loss: 757.8182 - val_loss: 738.1086\n",
      "Epoch 37/100\n",
      "1079/1079 [==============================] - 1s 1ms/step - loss: 756.2323 - val_loss: 736.6679\n",
      "Epoch 38/100\n",
      "1079/1079 [==============================] - 1s 1ms/step - loss: 754.6867 - val_loss: 735.2592\n",
      "Epoch 39/100\n",
      "1079/1079 [==============================] - 1s 1ms/step - loss: 753.2142 - val_loss: 734.0074\n",
      "Epoch 40/100\n",
      "1079/1079 [==============================] - 1s 1ms/step - loss: 751.7548 - val_loss: 732.6494\n",
      "Epoch 41/100\n",
      "1079/1079 [==============================] - 1s 1ms/step - loss: 750.3146 - val_loss: 731.3842\n",
      "Epoch 42/100\n",
      "1079/1079 [==============================] - 2s 1ms/step - loss: 748.8825 - val_loss: 730.1718\n",
      "Epoch 43/100\n",
      "1079/1079 [==============================] - 1s 1ms/step - loss: 747.4937 - val_loss: 728.9677\n",
      "Epoch 44/100\n",
      "1079/1079 [==============================] - 1s 1ms/step - loss: 746.1234 - val_loss: 727.8105\n",
      "Epoch 45/100\n",
      "1079/1079 [==============================] - 1s 1ms/step - loss: 744.8197 - val_loss: 726.6355\n",
      "Epoch 46/100\n",
      "1079/1079 [==============================] - 2s 2ms/step - loss: 743.5056 - val_loss: 725.4725\n",
      "Epoch 47/100\n",
      "1079/1079 [==============================] - 2s 2ms/step - loss: 742.2341 - val_loss: 724.3138\n",
      "Epoch 48/100\n",
      "1079/1079 [==============================] - 2s 1ms/step - loss: 741.0030 - val_loss: 723.2144\n",
      "Epoch 49/100\n",
      "1079/1079 [==============================] - 3s 3ms/step - loss: 739.7587 - val_loss: 722.1261\n",
      "Epoch 50/100\n",
      "1079/1079 [==============================] - 2s 2ms/step - loss: 738.5582 - val_loss: 721.0020\n",
      "Epoch 51/100\n",
      "1079/1079 [==============================] - 1s 1ms/step - loss: 737.3663 - val_loss: 719.9347\n",
      "Epoch 52/100\n",
      "1079/1079 [==============================] - 1s 1ms/step - loss: 736.1880 - val_loss: 719.0329\n",
      "Epoch 53/100\n",
      "1079/1079 [==============================] - 1s 1ms/step - loss: 735.0417 - val_loss: 717.9736\n",
      "Epoch 54/100\n",
      "1079/1079 [==============================] - 1s 1ms/step - loss: 733.9252 - val_loss: 717.0591\n",
      "Epoch 55/100\n",
      "1079/1079 [==============================] - 1s 1ms/step - loss: 732.8486 - val_loss: 716.0918\n",
      "Epoch 56/100\n",
      "1079/1079 [==============================] - 1s 1ms/step - loss: 731.7631 - val_loss: 715.1502\n",
      "Epoch 57/100\n",
      "1079/1079 [==============================] - 1s 1ms/step - loss: 730.7084 - val_loss: 714.3337\n",
      "Epoch 58/100\n",
      "1079/1079 [==============================] - 2s 1ms/step - loss: 729.7037 - val_loss: 713.3870\n",
      "Epoch 59/100\n",
      "1079/1079 [==============================] - 1s 1ms/step - loss: 728.6462 - val_loss: 712.6606\n",
      "Epoch 60/100\n",
      "1079/1079 [==============================] - 1s 1ms/step - loss: 727.7322 - val_loss: 711.7021\n",
      "Epoch 61/100\n",
      "1079/1079 [==============================] - 2s 2ms/step - loss: 726.7648 - val_loss: 710.8849\n",
      "Epoch 62/100\n",
      "1079/1079 [==============================] - 1s 1ms/step - loss: 725.7946 - val_loss: 710.0813\n",
      "Epoch 63/100\n",
      "1079/1079 [==============================] - 1s 1ms/step - loss: 724.8968 - val_loss: 709.3237\n",
      "Epoch 64/100\n",
      "1079/1079 [==============================] - 1s 1ms/step - loss: 723.9847 - val_loss: 708.5684\n",
      "Epoch 65/100\n",
      "1079/1079 [==============================] - 1s 1ms/step - loss: 723.0880 - val_loss: 707.8524\n",
      "Epoch 66/100\n",
      "1079/1079 [==============================] - 1s 1ms/step - loss: 722.2250 - val_loss: 707.1415\n",
      "Epoch 67/100\n",
      "1079/1079 [==============================] - 1s 1ms/step - loss: 721.3710 - val_loss: 706.5214\n",
      "Epoch 68/100\n",
      "1079/1079 [==============================] - 1s 1ms/step - loss: 720.5796 - val_loss: 705.8622\n",
      "Epoch 69/100\n",
      "1079/1079 [==============================] - 1s 1ms/step - loss: 719.7997 - val_loss: 705.2477\n",
      "Epoch 70/100\n",
      "1079/1079 [==============================] - 1s 1ms/step - loss: 719.0268 - val_loss: 704.5919\n",
      "Epoch 71/100\n",
      "1079/1079 [==============================] - 1s 1ms/step - loss: 718.2618 - val_loss: 704.0212\n",
      "Epoch 72/100\n",
      "1079/1079 [==============================] - 1s 1ms/step - loss: 717.5010 - val_loss: 703.4645\n",
      "Epoch 73/100\n",
      "1079/1079 [==============================] - 1s 1ms/step - loss: 716.7836 - val_loss: 702.8905\n",
      "Epoch 74/100\n",
      "1079/1079 [==============================] - 1s 1ms/step - loss: 716.0270 - val_loss: 702.4205\n",
      "Epoch 75/100\n",
      "1079/1079 [==============================] - 1s 1ms/step - loss: 715.3948 - val_loss: 701.8649\n",
      "Epoch 76/100\n",
      "1079/1079 [==============================] - 2s 2ms/step - loss: 714.6982 - val_loss: 701.3597 - ETA\n",
      "Epoch 77/100\n",
      "1079/1079 [==============================] - 2s 1ms/step - loss: 714.0667 - val_loss: 700.8407\n",
      "Epoch 78/100\n",
      "1079/1079 [==============================] - 1s 1ms/step - loss: 713.4119 - val_loss: 700.3707\n",
      "Epoch 79/100\n",
      "1079/1079 [==============================] - 1s 1ms/step - loss: 712.7703 - val_loss: 699.8316\n",
      "Epoch 80/100\n",
      "1079/1079 [==============================] - 1s 1ms/step - loss: 712.1653 - val_loss: 699.3520\n",
      "Epoch 81/100\n",
      "1079/1079 [==============================] - 2s 1ms/step - loss: 711.5793 - val_loss: 698.8807\n",
      "Epoch 82/100\n",
      "1079/1079 [==============================] - 1s 1ms/step - loss: 710.9995 - val_loss: 698.4384\n",
      "Epoch 83/100\n",
      "1079/1079 [==============================] - 1s 1ms/step - loss: 710.4194 - val_loss: 697.9673\n",
      "Epoch 84/100\n",
      "1079/1079 [==============================] - 1s 1ms/step - loss: 709.9000 - val_loss: 697.5670\n",
      "Epoch 85/100\n",
      "1079/1079 [==============================] - 1s 1ms/step - loss: 709.3411 - val_loss: 697.2174\n",
      "Epoch 86/100\n",
      "1079/1079 [==============================] - 1s 1ms/step - loss: 708.8061 - val_loss: 696.9012\n",
      "Epoch 87/100\n",
      "1079/1079 [==============================] - 2s 1ms/step - loss: 708.3234 - val_loss: 696.4418\n",
      "Epoch 88/100\n",
      "1079/1079 [==============================] - 1s 1ms/step - loss: 707.8156 - val_loss: 696.0779\n",
      "Epoch 89/100\n",
      "1079/1079 [==============================] - 1s 1ms/step - loss: 707.3556 - val_loss: 695.7490\n",
      "Epoch 90/100\n",
      "1079/1079 [==============================] - 1s 1ms/step - loss: 706.9037 - val_loss: 695.4017\n",
      "Epoch 91/100\n",
      "1079/1079 [==============================] - 1s 1ms/step - loss: 706.4491 - val_loss: 695.0854\n",
      "Epoch 92/100\n",
      "1079/1079 [==============================] - 1s 1ms/step - loss: 706.0208 - val_loss: 694.7177\n",
      "Epoch 93/100\n",
      "1079/1079 [==============================] - 1s 1ms/step - loss: 705.5942 - val_loss: 694.3746\n",
      "Epoch 94/100\n",
      "1079/1079 [==============================] - 1s 1ms/step - loss: 705.1989 - val_loss: 694.0855\n",
      "Epoch 95/100\n",
      "1079/1079 [==============================] - 1s 1ms/step - loss: 704.7801 - val_loss: 693.7898\n",
      "Epoch 96/100\n",
      "1079/1079 [==============================] - 1s 1ms/step - loss: 704.3839 - val_loss: 693.5176\n",
      "Epoch 97/100\n",
      "1079/1079 [==============================] - 1s 1ms/step - loss: 704.0166 - val_loss: 693.2893\n",
      "Epoch 98/100\n",
      "1079/1079 [==============================] - 1s 1ms/step - loss: 703.6254 - val_loss: 692.9857\n",
      "Epoch 99/100\n",
      "1079/1079 [==============================] - 1s 1ms/step - loss: 703.2866 - val_loss: 692.6866\n",
      "Epoch 100/100\n",
      "1079/1079 [==============================] - 2s 2ms/step - loss: 702.9387 - val_loss: 692.4493\n",
      "CPU times: user 3min 45s, sys: 1min 17s, total: 5min 2s\n",
      "Wall time: 2min 12s\n"
     ]
    }
   ],
   "source": [
    "%%time\n",
    "history = linear_model.fit(\n",
    "    train_features,\n",
    "    train_labels,\n",
    "    epochs=100,\n",
    "    # Calculate validation results on 20% of the training data.\n",
    "    validation_split=0.2)\n"
   ]
  },
  {
   "cell_type": "code",
   "execution_count": 538,
   "metadata": {},
   "outputs": [
    {
     "data": {
      "image/png": "[encoded data removed]",
      "text/plain": [
       "<Figure size 432x288 with 1 Axes>"
      ]
     },
     "metadata": {},
     "output_type": "display_data"
    }
   ],
   "source": [
    "plot_loss(history)\n"
   ]
  },
  {
   "cell_type": "code",
   "execution_count": 539,
   "metadata": {},
   "outputs": [],
   "source": [
    "test_results['linear_model'] = linear_model.evaluate(\n",
    "    test_features, test_labels, verbose=0)\n"
   ]
  },
  {
   "cell_type": "markdown",
   "metadata": {},
   "source": [
    "#### Regression with a deep neural network (DNN)\n",
    "In the previous section, you implemented two linear models for single and multiple inputs.\n",
    "\n",
    "Here, you will implement single-input and multiple-input DNN models.\n",
    "\n",
    "The code is basically the same except the model is expanded to include some \"hidden\" non-linear layers. The name \"hidden\" here just means not directly connected to the inputs or outputs.\n",
    "\n",
    "These models will contain a few more layers than the linear model:\n",
    "\n",
    "* The normalization layer, as before (with carat_normalizer for a single-input model and normalizer for a multiple-input model).\n",
    "* Two hidden, non-linear, Dense layers with the ReLU (relu) activation function nonlinearity.\n",
    "* A linear Dense single-output layer.\n",
    "\n",
    "Both models will use the same training procedure so the compile method is included in the build_and_compile_model function below."
   ]
  },
  {
   "cell_type": "code",
   "execution_count": 540,
   "metadata": {},
   "outputs": [],
   "source": [
    "def build_and_compile_model(norm):\n",
    "    model = tf.keras.Sequential([\n",
    "        norm,\n",
    "        Dense(64, activation='relu'),\n",
    "        Dense(64, activation='relu'),\n",
    "        Dense(1)\n",
    "    ])\n",
    "\n",
    "    model.compile(loss='mean_absolute_error',\n",
    "                optimizer=tf.keras.optimizers.Adam(0.001))\n",
    "    return model\n"
   ]
  },
  {
   "cell_type": "markdown",
   "metadata": {},
   "source": [
    "##### Regression using a DNN and a single input\n",
    "Create a DNN model with only `carat` as input and `carat_normalizer` (defined earlier) as the normalization layer:"
   ]
  },
  {
   "cell_type": "code",
   "execution_count": 541,
   "metadata": {},
   "outputs": [],
   "source": [
    "dnn_carat_model = build_and_compile_model(carat_normalizer)\n"
   ]
  },
  {
   "cell_type": "markdown",
   "metadata": {},
   "source": [
    "This model has quite a few more trainable parameters than the linear models:"
   ]
  },
  {
   "cell_type": "code",
   "execution_count": 543,
   "metadata": {},
   "outputs": [
    {
     "name": "stdout",
     "output_type": "stream",
     "text": [
      "Model: \"sequential_2\"\n",
      "_________________________________________________________________\n",
      " Layer (type)                Output Shape              Param #   \n",
      "=================================================================\n",
      " normalization_1 (Normalizat  (None, 1)                3         \n",
      " ion)                                                            \n",
      "                                                                 \n",
      " dense_89 (Dense)            (None, 64)                128       \n",
      "                                                                 \n",
      " dense_90 (Dense)            (None, 64)                4160      \n",
      "                                                                 \n",
      " dense_91 (Dense)            (None, 1)                 65        \n",
      "                                                                 \n",
      "=================================================================\n",
      "Total params: 4,356\n",
      "Trainable params: 4,353\n",
      "Non-trainable params: 3\n",
      "_________________________________________________________________\n"
     ]
    }
   ],
   "source": [
    "dnn_carat_model.summary()"
   ]
  },
  {
   "cell_type": "markdown",
   "metadata": {},
   "source": [
    "Train the model with Keras Model.fit:"
   ]
  },
  {
   "cell_type": "code",
   "execution_count": 544,
   "metadata": {},
   "outputs": [],
   "source": [
    "history = dnn_carat_model.fit(\n",
    "    train_features['carat'],\n",
    "    train_labels,\n",
    "    validation_split=0.2,\n",
    "    verbose=0, epochs=100)"
   ]
  },
  {
   "cell_type": "code",
   "execution_count": 545,
   "metadata": {},
   "outputs": [
    {
     "data": {
      "image/png": "[encoded data removed]",
      "text/plain": [
       "<Figure size 432x288 with 1 Axes>"
      ]
     },
     "metadata": {},
     "output_type": "display_data"
    }
   ],
   "source": [
    "plot_loss(history)"
   ]
  },
  {
   "cell_type": "markdown",
   "metadata": {},
   "source": [
    "If you plot the predictions as a function of 'Horsepower', you should notice how this model takes advantage of the nonlinearity provided by the hidden layers:"
   ]
  },
  {
   "cell_type": "code",
   "execution_count": 551,
   "metadata": {},
   "outputs": [],
   "source": [
    "x = tf.linspace(0.0, 4, 50)\n",
    "y = dnn_carat_model.predict(x)"
   ]
  },
  {
   "cell_type": "code",
   "execution_count": 552,
   "metadata": {},
   "outputs": [
    {
     "data": {
      "image/png": "[encoded data removed]",
      "text/plain": [
       "<Figure size 1080x720 with 1 Axes>"
      ]
     },
     "metadata": {},
     "output_type": "display_data"
    }
   ],
   "source": [
    "plot_carat(x, y)"
   ]
  },
  {
   "cell_type": "code",
   "execution_count": 553,
   "metadata": {},
   "outputs": [],
   "source": [
    "test_results['dnn_carat_model'] = dnn_carat_model.evaluate(\n",
    "    test_features['carat'], test_labels,\n",
    "    verbose=0)"
   ]
  },
  {
   "cell_type": "markdown",
   "metadata": {},
   "source": [
    "##### Regression using a DNN and multiple inputs\n",
    "Repeat the previous process using all the inputs. The model's performance slightly improves on the validation dataset."
   ]
  },
  {
   "cell_type": "code",
   "execution_count": 554,
   "metadata": {},
   "outputs": [
    {
     "name": "stdout",
     "output_type": "stream",
     "text": [
      "Model: \"sequential_3\"\n",
      "_________________________________________________________________\n",
      " Layer (type)                Output Shape              Param #   \n",
      "=================================================================\n",
      " normalization (Normalizatio  (None, 15)               31        \n",
      " n)                                                              \n",
      "                                                                 \n",
      " dense_92 (Dense)            (None, 64)                1024      \n",
      "                                                                 \n",
      " dense_93 (Dense)            (None, 64)                4160      \n",
      "                                                                 \n",
      " dense_94 (Dense)            (None, 1)                 65        \n",
      "                                                                 \n",
      "=================================================================\n",
      "Total params: 5,280\n",
      "Trainable params: 5,249\n",
      "Non-trainable params: 31\n",
      "_________________________________________________________________\n"
     ]
    }
   ],
   "source": [
    "dnn_model = build_and_compile_model(normalizer)\n",
    "dnn_model.summary()"
   ]
  },
  {
   "cell_type": "code",
   "execution_count": 555,
   "metadata": {},
   "outputs": [
    {
     "name": "stdout",
     "output_type": "stream",
     "text": [
      "Epoch 1/100\n",
      "1079/1079 [==============================] - 3s 2ms/step - loss: 1980.1951 - val_loss: 600.9349\n",
      "Epoch 2/100\n",
      "1079/1079 [==============================] - 3s 3ms/step - loss: 521.8899 - val_loss: 463.9257\n",
      "Epoch 3/100\n",
      "1079/1079 [==============================] - 2s 2ms/step - loss: 451.0403 - val_loss: 429.6447\n",
      "Epoch 4/100\n",
      "1079/1079 [==============================] - 2s 2ms/step - loss: 426.2385 - val_loss: 413.5133\n",
      "Epoch 5/100\n",
      "1079/1079 [==============================] - 2s 2ms/step - loss: 410.6217 - val_loss: 401.0284\n",
      "Epoch 6/100\n",
      "1079/1079 [==============================] - 2s 2ms/step - loss: 400.4504 - val_loss: 393.6552\n",
      "Epoch 7/100\n",
      "1079/1079 [==============================] - 2s 2ms/step - loss: 392.3275 - val_loss: 385.0370\n",
      "Epoch 8/100\n",
      "1079/1079 [==============================] - 2s 2ms/step - loss: 384.6735 - val_loss: 379.6197\n",
      "Epoch 9/100\n",
      "1079/1079 [==============================] - 2s 2ms/step - loss: 377.6542 - val_loss: 373.5136\n",
      "Epoch 10/100\n",
      "1079/1079 [==============================] - 2s 2ms/step - loss: 371.5381 - val_loss: 367.0702\n",
      "Epoch 11/100\n",
      "1079/1079 [==============================] - 2s 2ms/step - loss: 366.7937 - val_loss: 363.6230\n",
      "Epoch 12/100\n",
      "1079/1079 [==============================] - 2s 2ms/step - loss: 363.3117 - val_loss: 359.5351\n",
      "Epoch 13/100\n",
      "1079/1079 [==============================] - 2s 2ms/step - loss: 359.8406 - val_loss: 358.1213\n",
      "Epoch 14/100\n",
      "1079/1079 [==============================] - 2s 2ms/step - loss: 357.1608 - val_loss: 355.5257\n",
      "Epoch 15/100\n",
      "1079/1079 [==============================] - 2s 2ms/step - loss: 355.0006 - val_loss: 351.9745\n",
      "Epoch 16/100\n",
      "1079/1079 [==============================] - 2s 2ms/step - loss: 353.0878 - val_loss: 350.4357\n",
      "Epoch 17/100\n",
      "1079/1079 [==============================] - 2s 2ms/step - loss: 351.1632 - val_loss: 351.7390\n",
      "Epoch 18/100\n",
      "1079/1079 [==============================] - 2s 2ms/step - loss: 349.1425 - val_loss: 348.6423\n",
      "Epoch 19/100\n",
      "1079/1079 [==============================] - 2s 2ms/step - loss: 347.8762 - val_loss: 347.1304\n",
      "Epoch 20/100\n",
      "1079/1079 [==============================] - 2s 2ms/step - loss: 346.7666 - val_loss: 346.7769\n",
      "Epoch 21/100\n",
      "1079/1079 [==============================] - 2s 2ms/step - loss: 345.5240 - val_loss: 349.6257\n",
      "Epoch 22/100\n",
      "1079/1079 [==============================] - 2s 2ms/step - loss: 344.7173 - val_loss: 345.0092\n",
      "Epoch 23/100\n",
      "1079/1079 [==============================] - 2s 2ms/step - loss: 343.5549 - val_loss: 344.8617\n",
      "Epoch 24/100\n",
      "1079/1079 [==============================] - 2s 2ms/step - loss: 342.7128 - val_loss: 343.9940\n",
      "Epoch 25/100\n",
      "1079/1079 [==============================] - 2s 2ms/step - loss: 341.7448 - val_loss: 344.5750\n",
      "Epoch 26/100\n",
      "1079/1079 [==============================] - 2s 2ms/step - loss: 340.9468 - val_loss: 343.9066\n",
      "Epoch 27/100\n",
      "1079/1079 [==============================] - 2s 2ms/step - loss: 340.2983 - val_loss: 342.1221\n",
      "Epoch 28/100\n",
      "1079/1079 [==============================] - 2s 2ms/step - loss: 339.3796 - val_loss: 343.1919\n",
      "Epoch 29/100\n",
      "1079/1079 [==============================] - 2s 2ms/step - loss: 338.5344 - val_loss: 345.4137\n",
      "Epoch 30/100\n",
      "1079/1079 [==============================] - 2s 2ms/step - loss: 338.2835 - val_loss: 344.2665\n",
      "Epoch 31/100\n",
      "1079/1079 [==============================] - 2s 2ms/step - loss: 337.6638 - val_loss: 340.7375\n",
      "Epoch 32/100\n",
      "1079/1079 [==============================] - 2s 2ms/step - loss: 336.9658 - val_loss: 344.0012\n",
      "Epoch 33/100\n",
      "1079/1079 [==============================] - 2s 2ms/step - loss: 336.2868 - val_loss: 339.7770\n",
      "Epoch 34/100\n",
      "1079/1079 [==============================] - 2s 2ms/step - loss: 335.5715 - val_loss: 339.3889\n",
      "Epoch 35/100\n",
      "1079/1079 [==============================] - 2s 1ms/step - loss: 335.4196 - val_loss: 339.5315\n",
      "Epoch 36/100\n",
      "1079/1079 [==============================] - 2s 2ms/step - loss: 334.8847 - val_loss: 341.5595\n",
      "Epoch 37/100\n",
      "1079/1079 [==============================] - 2s 1ms/step - loss: 334.4632 - val_loss: 337.5781\n",
      "Epoch 38/100\n",
      "1079/1079 [==============================] - 2s 2ms/step - loss: 334.0847 - val_loss: 338.2370\n",
      "Epoch 39/100\n",
      "1079/1079 [==============================] - 2s 2ms/step - loss: 333.5740 - val_loss: 338.2401\n",
      "Epoch 40/100\n",
      "1079/1079 [==============================] - 2s 2ms/step - loss: 333.2738 - val_loss: 337.1767\n",
      "Epoch 41/100\n",
      "1079/1079 [==============================] - 2s 1ms/step - loss: 332.4941 - val_loss: 338.4501\n",
      "Epoch 42/100\n",
      "1079/1079 [==============================] - 2s 1ms/step - loss: 332.2218 - val_loss: 337.6118\n",
      "Epoch 43/100\n",
      "1079/1079 [==============================] - 2s 1ms/step - loss: 332.0667 - val_loss: 337.6597\n",
      "Epoch 44/100\n",
      "1079/1079 [==============================] - 2s 2ms/step - loss: 331.6148 - val_loss: 341.0494\n",
      "Epoch 45/100\n",
      "1079/1079 [==============================] - 2s 2ms/step - loss: 331.1041 - val_loss: 335.4481\n",
      "Epoch 46/100\n",
      "1079/1079 [==============================] - 2s 2ms/step - loss: 330.6990 - val_loss: 335.3206\n",
      "Epoch 47/100\n",
      "1079/1079 [==============================] - 2s 2ms/step - loss: 330.1988 - val_loss: 336.9870\n",
      "Epoch 48/100\n",
      "1079/1079 [==============================] - 2s 2ms/step - loss: 330.2677 - val_loss: 336.9925\n",
      "Epoch 49/100\n",
      "1079/1079 [==============================] - 2s 2ms/step - loss: 329.6920 - val_loss: 337.2597\n",
      "Epoch 50/100\n",
      "1079/1079 [==============================] - 2s 2ms/step - loss: 329.2511 - val_loss: 335.7638\n",
      "Epoch 51/100\n",
      "1079/1079 [==============================] - 3s 2ms/step - loss: 328.9398 - val_loss: 334.1627\n",
      "Epoch 52/100\n",
      "1079/1079 [==============================] - 2s 2ms/step - loss: 328.8166 - val_loss: 335.1555\n",
      "Epoch 53/100\n",
      "1079/1079 [==============================] - 2s 2ms/step - loss: 328.3767 - val_loss: 333.0093\n",
      "Epoch 54/100\n",
      "1079/1079 [==============================] - 2s 2ms/step - loss: 327.9975 - val_loss: 333.6846\n",
      "Epoch 55/100\n",
      "1079/1079 [==============================] - 2s 2ms/step - loss: 327.5424 - val_loss: 337.6972\n",
      "Epoch 56/100\n",
      "1079/1079 [==============================] - 2s 2ms/step - loss: 327.0769 - val_loss: 339.0339\n",
      "Epoch 57/100\n",
      "1079/1079 [==============================] - 2s 2ms/step - loss: 327.3167 - val_loss: 335.2432\n",
      "Epoch 58/100\n",
      "1079/1079 [==============================] - 2s 2ms/step - loss: 327.0587 - val_loss: 334.2500\n",
      "Epoch 59/100\n",
      "1079/1079 [==============================] - 2s 2ms/step - loss: 326.3701 - val_loss: 332.2511\n",
      "Epoch 60/100\n",
      "1079/1079 [==============================] - 2s 2ms/step - loss: 326.2420 - val_loss: 331.7512\n",
      "Epoch 61/100\n",
      "1079/1079 [==============================] - 2s 2ms/step - loss: 326.0611 - val_loss: 333.4664\n",
      "Epoch 62/100\n",
      "1079/1079 [==============================] - 2s 2ms/step - loss: 325.1914 - val_loss: 334.5994\n",
      "Epoch 63/100\n",
      "1079/1079 [==============================] - 2s 2ms/step - loss: 325.7948 - val_loss: 331.2845\n",
      "Epoch 64/100\n",
      "1079/1079 [==============================] - 2s 2ms/step - loss: 325.3369 - val_loss: 330.1502\n",
      "Epoch 65/100\n",
      "1079/1079 [==============================] - 2s 2ms/step - loss: 325.2169 - val_loss: 331.7108\n",
      "Epoch 66/100\n",
      "1079/1079 [==============================] - 2s 2ms/step - loss: 324.6925 - val_loss: 331.3170\n",
      "Epoch 67/100\n",
      "1079/1079 [==============================] - 2s 2ms/step - loss: 324.2788 - val_loss: 331.5066\n",
      "Epoch 68/100\n",
      "1079/1079 [==============================] - 2s 2ms/step - loss: 323.7641 - val_loss: 335.6000\n",
      "Epoch 69/100\n",
      "1079/1079 [==============================] - 2s 1ms/step - loss: 323.6158 - val_loss: 330.8558\n",
      "Epoch 70/100\n",
      "1079/1079 [==============================] - 2s 1ms/step - loss: 323.5302 - val_loss: 328.9546\n",
      "Epoch 71/100\n",
      "1079/1079 [==============================] - 2s 2ms/step - loss: 322.9909 - val_loss: 331.0250\n",
      "Epoch 72/100\n",
      "1079/1079 [==============================] - 2s 2ms/step - loss: 323.2681 - val_loss: 329.8278\n",
      "Epoch 73/100\n",
      "1079/1079 [==============================] - 2s 2ms/step - loss: 323.1700 - val_loss: 329.3287\n",
      "Epoch 74/100\n",
      "1079/1079 [==============================] - 2s 2ms/step - loss: 322.4683 - val_loss: 329.2074\n",
      "Epoch 75/100\n",
      "1079/1079 [==============================] - 2s 1ms/step - loss: 322.0218 - val_loss: 329.8216\n",
      "Epoch 76/100\n",
      "1079/1079 [==============================] - 2s 1ms/step - loss: 321.8289 - val_loss: 328.9420\n",
      "Epoch 77/100\n",
      "1079/1079 [==============================] - 2s 2ms/step - loss: 321.3363 - val_loss: 333.7899\n",
      "Epoch 78/100\n",
      "1079/1079 [==============================] - 2s 2ms/step - loss: 321.5174 - val_loss: 328.5635\n",
      "Epoch 79/100\n",
      "1079/1079 [==============================] - 2s 1ms/step - loss: 321.0724 - val_loss: 329.4495\n",
      "Epoch 80/100\n",
      "1079/1079 [==============================] - 2s 2ms/step - loss: 321.1371 - val_loss: 333.7531\n",
      "Epoch 81/100\n",
      "1079/1079 [==============================] - 2s 1ms/step - loss: 320.5915 - val_loss: 326.9962\n",
      "Epoch 82/100\n",
      "1079/1079 [==============================] - 2s 1ms/step - loss: 320.4530 - val_loss: 329.2659\n",
      "Epoch 83/100\n",
      "1079/1079 [==============================] - 2s 1ms/step - loss: 320.0375 - val_loss: 327.7834\n",
      "Epoch 84/100\n",
      "1079/1079 [==============================] - 2s 1ms/step - loss: 319.8622 - val_loss: 328.3262\n",
      "Epoch 85/100\n",
      "1079/1079 [==============================] - 2s 1ms/step - loss: 319.6669 - val_loss: 328.5756\n",
      "Epoch 86/100\n",
      "1079/1079 [==============================] - 2s 2ms/step - loss: 319.5120 - val_loss: 328.5899\n",
      "Epoch 87/100\n",
      "1079/1079 [==============================] - 2s 2ms/step - loss: 319.0849 - val_loss: 325.5570\n",
      "Epoch 88/100\n",
      "1079/1079 [==============================] - 2s 2ms/step - loss: 318.6850 - val_loss: 326.0551\n",
      "Epoch 89/100\n",
      "1079/1079 [==============================] - 2s 2ms/step - loss: 318.2728 - val_loss: 325.6725\n",
      "Epoch 90/100\n",
      "1079/1079 [==============================] - 2s 1ms/step - loss: 318.4184 - val_loss: 324.7943\n",
      "Epoch 91/100\n",
      "1079/1079 [==============================] - 2s 1ms/step - loss: 317.9429 - val_loss: 327.0288\n",
      "Epoch 92/100\n",
      "1079/1079 [==============================] - 2s 2ms/step - loss: 317.5813 - val_loss: 324.9211\n",
      "Epoch 93/100\n",
      "1079/1079 [==============================] - 2s 2ms/step - loss: 317.0373 - val_loss: 324.7813\n",
      "Epoch 94/100\n",
      "1079/1079 [==============================] - 2s 1ms/step - loss: 316.9478 - val_loss: 325.3866\n",
      "Epoch 95/100\n",
      "1079/1079 [==============================] - 2s 1ms/step - loss: 317.0497 - val_loss: 326.0489\n",
      "Epoch 96/100\n",
      "1079/1079 [==============================] - 2s 2ms/step - loss: 316.8632 - val_loss: 324.2756\n",
      "Epoch 97/100\n",
      "1079/1079 [==============================] - 2s 1ms/step - loss: 316.0135 - val_loss: 323.0859\n",
      "Epoch 98/100\n",
      "1079/1079 [==============================] - 2s 2ms/step - loss: 316.2182 - val_loss: 323.7693\n",
      "Epoch 99/100\n",
      "1079/1079 [==============================] - 2s 2ms/step - loss: 315.7027 - val_loss: 322.0432\n",
      "Epoch 100/100\n",
      "1079/1079 [==============================] - 2s 2ms/step - loss: 315.1612 - val_loss: 321.8807\n"
     ]
    }
   ],
   "source": [
    "history = dnn_model.fit(\n",
    "    train_features,\n",
    "    train_labels,\n",
    "    validation_split=0.2, \n",
    "    epochs=100)"
   ]
  },
  {
   "cell_type": "code",
   "execution_count": 556,
   "metadata": {},
   "outputs": [
    {
     "data": {
      "image/png": "[encoded data removed]",
      "text/plain": [
       "<Figure size 432x288 with 1 Axes>"
      ]
     },
     "metadata": {},
     "output_type": "display_data"
    }
   ],
   "source": [
    "plot_loss(history)"
   ]
  },
  {
   "cell_type": "code",
   "execution_count": 557,
   "metadata": {},
   "outputs": [],
   "source": [
    "test_results['dnn_model'] = dnn_model.evaluate(\n",
    "    test_features, test_labels, verbose=0)"
   ]
  },
  {
   "cell_type": "markdown",
   "metadata": {},
   "source": [
    "##### Performance\n",
    "Since all models have been trained, you can review their test set performance:"
   ]
  },
  {
   "cell_type": "code",
   "execution_count": 558,
   "metadata": {},
   "outputs": [
    {
     "data": {
      "text/html": [
       "<div>\n",
       "<style scoped>\n",
       "    .dataframe tbody tr th:only-of-type {\n",
       "        vertical-align: middle;\n",
       "    }\n",
       "\n",
       "    .dataframe tbody tr th {\n",
       "        vertical-align: top;\n",
       "    }\n",
       "\n",
       "    .dataframe thead th {\n",
       "        text-align: right;\n",
       "    }\n",
       "</style>\n",
       "<table border=\"1\" class=\"dataframe\">\n",
       "  <thead>\n",
       "    <tr style=\"text-align: right;\">\n",
       "      <th></th>\n",
       "      <th>Mean absolute error [price]</th>\n",
       "    </tr>\n",
       "  </thead>\n",
       "  <tbody>\n",
       "    <tr>\n",
       "      <th>carat_model</th>\n",
       "      <td>951.496460</td>\n",
       "    </tr>\n",
       "    <tr>\n",
       "      <th>linear_model</th>\n",
       "      <td>707.677063</td>\n",
       "    </tr>\n",
       "    <tr>\n",
       "      <th>dnn_carat_model</th>\n",
       "      <td>822.255127</td>\n",
       "    </tr>\n",
       "    <tr>\n",
       "      <th>dnn_model</th>\n",
       "      <td>330.091614</td>\n",
       "    </tr>\n",
       "  </tbody>\n",
       "</table>\n",
       "</div>"
      ],
      "text/plain": [
       "                 Mean absolute error [price]\n",
       "carat_model                       951.496460\n",
       "linear_model                      707.677063\n",
       "dnn_carat_model                   822.255127\n",
       "dnn_model                         330.091614"
      ]
     },
     "execution_count": 558,
     "metadata": {},
     "output_type": "execute_result"
    }
   ],
   "source": [
    "pd.DataFrame(test_results, index=['Mean absolute error [price]']).T"
   ]
  },
  {
   "cell_type": "markdown",
   "metadata": {},
   "source": [
    "##### Make predictions\n",
    "You can now make predictions with the dnn_model on the test set using Keras Model.predict and review the loss:"
   ]
  },
  {
   "cell_type": "code",
   "execution_count": 568,
   "metadata": {},
   "outputs": [
    {
     "data": {
      "image/png": "[encoded data removed]",
      "text/plain": [
       "<Figure size 1080x720 with 1 Axes>"
      ]
     },
     "metadata": {},
     "output_type": "display_data"
    }
   ],
   "source": [
    "test_predictions = dnn_model.predict(test_features).flatten()\n",
    "\n",
    "plt.figure(figsize=(15, 10))\n",
    "plt.scatter(test_labels, test_predictions)\n",
    "plt.xlabel('True Values [price]')\n",
    "plt.ylabel('Predictions [price]')\n",
    "lims = [0, 25000]\n",
    "plt.xlim(lims)\n",
    "plt.ylim(lims)\n",
    "_ = plt.plot(lims, lims)\n"
   ]
  },
  {
   "cell_type": "markdown",
   "metadata": {},
   "source": [
    "It appears that the model predicts reasonably well.\n",
    "\n",
    "Now, check the error distribution:"
   ]
  },
  {
   "cell_type": "code",
   "execution_count": 583,
   "metadata": {},
   "outputs": [
    {
     "data": {
      "image/png": "[encoded data removed]",
      "text/plain": [
       "<Figure size 1080x720 with 1 Axes>"
      ]
     },
     "metadata": {},
     "output_type": "display_data"
    }
   ],
   "source": [
    "error = test_predictions - test_labels\n",
    "plt.figure(figsize=(15, 10))\n",
    "plt.hist(error, bins=1000)\n",
    "plt.xlabel('Prediction Error [price]')\n",
    "xlim = [-2500, 2500]\n",
    "ylim = [0, 2500]\n",
    "plt.xlim(xlim)\n",
    "plt.ylim(ylim)\n",
    "_ = plt.ylabel('Count')\n"
   ]
  },
  {
   "cell_type": "code",
   "execution_count": null,
   "metadata": {},
   "outputs": [],
   "source": []
  },
  {
   "cell_type": "code",
   "execution_count": null,
   "metadata": {},
   "outputs": [],
   "source": []
  }
 ],
 "metadata": {
  "interpreter": {
   "hash": "948d73eb6dfda2e804d788ca8e9f193cc8a7762f6fd3fe59d9c3fe882d54f9f4"
  },
  "kernelspec": {
   "display_name": "Python 3.8.8 64-bit ('base': conda)",
   "language": "python",
   "name": "python3"
  },
  "language_info": {
   "codemirror_mode": {
    "name": "ipython",
    "version": 3
   },
   "file_extension": ".py",
   "mimetype": "text/x-python",
   "name": "python",
   "nbconvert_exporter": "python",
   "pygments_lexer": "ipython3",
   "version": "3.8.10"
  },
  "orig_nbformat": 4
 },
 "nbformat": 4,
 "nbformat_minor": 2
}
